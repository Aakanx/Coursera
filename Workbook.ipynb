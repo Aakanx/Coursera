{
 "cells": [
  {
   "cell_type": "code",
   "execution_count": 16,
   "metadata": {},
   "outputs": [
    {
     "data": {
      "text/plain": [
       "2.0500000000000003"
      ]
     },
     "execution_count": 16,
     "metadata": {},
     "output_type": "execute_result"
    }
   ],
   "source": [
    "0.05*41"
   ]
  },
  {
   "cell_type": "code",
   "execution_count": 13,
   "metadata": {},
   "outputs": [
    {
     "name": "stdout",
     "output_type": "stream",
     "text": [
      "{'A': [1.0, 0.5, 0, 0.25, 0, 0, 0.5, 0.25, 1.0, 0], 'C': [0, 0, 0, 0.25, 0.5, 0, 0, 0.25, 0, 0], 'G': [0, 0, 0, 0.25, 0.5, 1.0, 0, 0, 0, 0], 'T': [0, 0.5, 1.0, 0.25, 0, 0, 0.5, 0.5, 0, 1.0]}\n"
     ]
    }
   ],
   "source": [
    "def Profile(Motifs):  # takes list of strings, returns dictionary\n",
    "    profile = {}\n",
    "    k = len(Motifs[0])\n",
    "    for symbol in \"ACGT\":\n",
    "        profile[symbol] = []\n",
    "        for j in range(k):\n",
    "            profile[symbol].append(0)\n",
    "    t = len(Motifs)\n",
    "    for i in range(t):\n",
    "        for j in range(k):\n",
    "            symbol = Motifs[i][j]\n",
    "            profile[symbol][j] += 1 / t\n",
    "    return profile\n",
    "\n",
    "print(Profile(['ATTACGTCAT',\n",
    "               'AATCGGATAT',\n",
    "               'ATTGCGAAAT',\n",
    "               'AATTGGTTAT']))"
   ]
  },
  {
   "cell_type": "code",
   "execution_count": 9,
   "metadata": {},
   "outputs": [
    {
     "name": "stdout",
     "output_type": "stream",
     "text": [
      "2.718281828459045 7.3890560989306495\n"
     ]
    }
   ],
   "source": [
    "from math import e\n",
    "\n",
    "print(e**1, \n",
    "      e**2)"
   ]
  },
  {
   "cell_type": "code",
   "execution_count": 7,
   "metadata": {},
   "outputs": [
    {
     "name": "stdout",
     "output_type": "stream",
     "text": [
      "-3.526313958632386\n"
     ]
    },
    {
     "data": {
      "text/plain": [
       "-11.53"
      ]
     },
     "execution_count": 7,
     "metadata": {},
     "output_type": "execute_result"
    }
   ],
   "source": [
    "from math import e as exp\n",
    "from math import log as ln\n",
    "\n",
    "#print(exp(1),exp(2),ln(exp(1)))\n",
    "\n",
    "a=1/4+3/4*exp**(-4*0.1)\n",
    "b=1/4-1/4*exp**(-4*0.1)\n",
    "c=1/4+3/4*exp**(-4*0.2)\n",
    "d=1/4-1/4*exp**(-4*0.2)\n",
    "e=1/4+3/4*exp**(-4*0.5) \n",
    "f=1/4-1/4*exp**(-4*0.5)\n",
    "g=1/4+3/4*exp**(-4*0.6)\n",
    "h=1/4-1/4*exp**(-4*0.6)\n",
    "\n",
    "#print(a,b,c,d,e,f,g,h)\n",
    "\n",
    "i = h*(e*a*c + f*b*d + f*b*d + f*b*d)\n",
    "j = h*(f*a*c + e*b*d + f*b*d + f*b*d)\n",
    "k = g*(f*a*c + f*b*d + e*b*d + f*b*d)\n",
    "l = h*(f*a*c + f*b*d + f*b*d + e*b*d)\n",
    "L = 1/4*(i+j+k+l)\n",
    "print(ln(L))\n",
    "\n",
    "-3.53-3.48-4.52"
   ]
  },
  {
   "cell_type": "code",
   "execution_count": 8,
   "metadata": {},
   "outputs": [
    {
     "name": "stdout",
     "output_type": "stream",
     "text": [
      "CGGGGAAACTAGAACCAACC\n",
      "-15.206153761089835\n",
      "-12.041199826559247\n",
      "-14.581460078048336\n",
      "CCCATCAGGTCAAACGCCCC\n",
      "-14.354216296545273\n",
      "-12.041199826559247\n",
      "-15.78558006070426\n",
      "GTTTTTTTCGCTGGCGTCTT\n",
      "-9.787613839138176\n",
      "-12.041199826559247\n",
      "-13.377340095392412\n",
      "ATTTAATAATAAAATTTAAT\n",
      "-14.581460078048336\n",
      "-12.041199826559247\n",
      "-7.95880017344075\n"
     ]
    }
   ],
   "source": [
    "def Multiply(state, sequence):\n",
    "    from math import log\n",
    "    probability = 1\n",
    "    for i in sequence:\n",
    "        probability *= state[i]\n",
    "#        print(i, state[i], probability)\n",
    "    print(log(probability,10))\n",
    "#    print()\n",
    "\n",
    "states = [{'A':0.1,'C':0.2,'G':0.3,'T':0.4},\n",
    "          {'A':0.25,'C':0.25,'G':0.25,'T':0.25},\n",
    "          {'A':0.4,'C':0.1,'G':0.1,'T':0.4}]\n",
    "\n",
    "sequences = ['CGGGGAAACTAGAACCAACC',\n",
    "             'CCCATCAGGTCAAACGCCCC',\n",
    "             'GTTTTTTTCGCTGGCGTCTT',\n",
    "             'ATTTAATAATAAAATTTAAT']\n",
    "\n",
    "for sequence in sequences:\n",
    "    print(sequence)\n",
    "#    print()\n",
    "    for state in states:\n",
    "        Multiply(state,sequence)"
   ]
  },
  {
   "cell_type": "code",
   "execution_count": null,
   "metadata": {},
   "outputs": [],
   "source": [
    "def Multiply(state, sequence):\n",
    "    from math import log\n",
    "    probability = 1\n",
    "    for i in sequence:\n",
    "        probability *= state[i]\n",
    "        print(i, state[i], probability)\n",
    "    print(log(probability,10))\n",
    "\n",
    "Multiply({'A':0.1,'C':0.2,'G':0.3,'T':0.4},'CGGGGAAACTAGAACCAACC')"
   ]
  },
  {
   "cell_type": "code",
   "execution_count": null,
   "metadata": {},
   "outputs": [],
   "source": [
    "p=print\n",
    "p(43259854984598)\n",
    "# print is FUNCTION"
   ]
  },
  {
   "cell_type": "code",
   "execution_count": null,
   "metadata": {},
   "outputs": [],
   "source": [
    "Profile = {'A': [0.4, 0.3, 0.0, 0.1, 0.0, 0.9], 'C': [0.2, 0.3, 0.0, 0.4, 0.0, 0.1], 'G': [0.1, 0.3, 1.0, 0.1, 0.5, 0.0], 'T': [0.3, 0.1, 0.0, 0.4, 0.5, 0.0]}\n",
    "\n",
    "for i in Profile:\n",
    "    print(Profile[i])\n",
    "    \n",
    "def Consensus(Profile):\n",
    "    k = 6\n",
    "    consensus = \"\"\n",
    "    for j in range(k):\n",
    "        m = 0 # resets after nested for loop when at next j\n",
    "        frequentSymbol = \"\" # resets after nested for loop when at next j\n",
    "        for symbol in \"ACGT\":\n",
    "            if Profile[symbol][j] > m:\n",
    "                m = Profile[symbol][j]\n",
    "                frequentSymbol = symbol\n",
    "        consensus += frequentSymbol\n",
    "    return consensus\n",
    "\n",
    "def Pr(Text, Profile): # probability of text, given profile\n",
    "    p = 1\n",
    "    for i in range(len(Text)):\n",
    "        p *= Profile[Text[i]][i]\n",
    "    return p\n",
    "\n",
    "print('{0:.16f}'.format(Pr('GAGCTA', Profile)))\n",
    "\n",
    "print(len(Profile[0]))"
   ]
  },
  {
   "cell_type": "code",
   "execution_count": 33,
   "metadata": {},
   "outputs": [
    {
     "name": "stdout",
     "output_type": "stream",
     "text": [
      "9\n"
     ]
    }
   ],
   "source": [
    "count = 0\n",
    "a = [1, 3, 5] # list, i = values \n",
    "for i in a: # to make i = indices, would need to do range(len(a)), which would give count = 3; range generates list of values\n",
    "    count += i\n",
    "print(count)"
   ]
  },
  {
   "cell_type": "code",
   "execution_count": 30,
   "metadata": {},
   "outputs": [
    {
     "name": "stdout",
     "output_type": "stream",
     "text": [
      "9\n"
     ]
    }
   ],
   "source": [
    "count = 0\n",
    "a = {\"b\": 1, \"c\": 3, \"d\": 5} # dictionary, i = indices = keys\n",
    "\n",
    "for i in a:\n",
    "    count += a[i]\n",
    "print(count)"
   ]
  },
  {
   "cell_type": "code",
   "execution_count": 38,
   "metadata": {
    "scrolled": true
   },
   "outputs": [
    {
     "name": "stdout",
     "output_type": "stream",
     "text": [
      "9\n"
     ]
    }
   ],
   "source": [
    "count = 0\n",
    "a = {\"b\": 1, \"c\": 3, \"d\": 5} # dictionary.values() = list, i = values\n",
    "for i in a.values():\n",
    "    count += i\n",
    "print(count)"
   ]
  },
  {
   "cell_type": "code",
   "execution_count": 39,
   "metadata": {},
   "outputs": [
    {
     "name": "stdout",
     "output_type": "stream",
     "text": [
      "9\n"
     ]
    }
   ],
   "source": [
    "a = {\"b\": 1, \"c\": 3, \"d\": 5}\n",
    "e = a.values()\n",
    "print(sum(e))"
   ]
  },
  {
   "cell_type": "code",
   "execution_count": 49,
   "metadata": {},
   "outputs": [
    {
     "name": "stdout",
     "output_type": "stream",
     "text": [
      "1\n",
      "0.3\n",
      "0.9\n",
      "a\n"
     ]
    }
   ],
   "source": [
    "ranges = {0.1: [0, 0.1], 0.2: [0.1, 0.3], 0.6: [0.3, 0.9], 0.1: [0.9, 1]}\n",
    "\n",
    "for number in ranges:\n",
    "    print(ranges[number][1])\n",
    "    \n",
    "\n",
    "# 0.1\n",
    "# 0.2\n",
    "# 0.6\n",
    "# 0.1\n",
    "\n",
    "# counter = 0\n",
    "# 0.1: 0, 0.1, counter = 0.1\n",
    "# 0.2: 0.1, 0.3, counter = 0.3\n",
    "# 0.6: 0.3, 0.9, counter = 0.9\n",
    "# 0.1: 0.9, 1, counter = 1\n",
    "\n",
    "\n",
    "\n",
    "if True:\n",
    "    kmer = 'a'\n",
    "print(kmer)"
   ]
  },
  {
   "cell_type": "code",
   "execution_count": 9,
   "metadata": {},
   "outputs": [
    {
     "name": "stdout",
     "output_type": "stream",
     "text": [
      "['b', 'd']\n"
     ]
    }
   ],
   "source": [
    "Motifs = ['b', 'c', 'd']\n",
    "i = 1\n",
    "\n",
    "LessMotifs = []\n",
    "for a in range(len(Motifs)):\n",
    "    if a != i:\n",
    "        LessMotifs.append(Motifs[a])\n",
    "        \n",
    "print(LessMotifs)\n",
    "\n",
    "\n"
   ]
  },
  {
   "cell_type": "code",
   "execution_count": 17,
   "metadata": {},
   "outputs": [
    {
     "name": "stdout",
     "output_type": "stream",
     "text": [
      "0.24999999999999997\n",
      "0.35\n",
      "0.04999999999999999\n",
      "0.15\n",
      "0.19999999999999996\n",
      "Total: 0.9999999999999999\n"
     ]
    }
   ],
   "source": [
    "# def Normalize(Probabilities):\n",
    "#     normalized = {}\n",
    "#     for kmer in Probabilities:\n",
    "#         normalized[kmer] = Probabilities[kmer] / sum(Probabilities.values())\n",
    "#     return normalized\n",
    "\n",
    "def Normalize(Probabilities):\n",
    "    normalized = []\n",
    "    for k in Probabilities:\n",
    "        normalized.append(k / sum(Probabilities))\n",
    "    return normalized\n",
    "\n",
    "Probabilities = [0.45, 0.63, 0.09, 0.27, 0.36]\n",
    "\n",
    "count = 0\n",
    "for i in Normalize(Probabilities):\n",
    "    print(i)\n",
    "    count += i\n",
    "print(\"Total:\", count)"
   ]
  },
  {
   "cell_type": "code",
   "execution_count": 19,
   "metadata": {},
   "outputs": [
    {
     "name": "stdout",
     "output_type": "stream",
     "text": [
      "GTC\n",
      "GCC\n",
      "ATA\n",
      "GCT\n"
     ]
    }
   ],
   "source": [
    "Dna = ['ATGAGGTC',\n",
    "'GCCCTAGA',\n",
    "'AAATAGAT',\n",
    "'TTGTGCTA']\n",
    "Profile = {'A': [0.25, 0.125, 0.25], 'C': [0.25, 0.375, 0.375], 'G': [0.375, 0.125, 0.125], 'T': [0.125, 0.375, 0.25]}\n",
    "\n",
    "\n",
    "def Motifs(Profile, Dna):\n",
    "    k = len(Profile[\"A\"])\n",
    "    t = len(Dna)\n",
    "    Motifs = []\n",
    "    for i in range(t): # string by string in Dna\n",
    "        Motifs.append(ProfileMostProbableKmer(Dna[i], k, Profile))\n",
    "    return Motifs\n",
    "\n",
    "def CountWithPseudocounts(Motifs):\n",
    "    t = len(Motifs)\n",
    "    k = len(Motifs[0])\n",
    "    countp = {}\n",
    "    for symbol in \"ACGT\":\n",
    "        countp[symbol] = []\n",
    "        for j in range(k):\n",
    "            countp[symbol].append(1)\n",
    "    for i in range(t):\n",
    "        for j in range(k):\n",
    "            symbol = Motifs[i][j]\n",
    "            countp[symbol][j] += 1\n",
    "    return countp\n",
    "\n",
    "def ProfileWithPseudocounts(Motifs):\n",
    "    t = len(Motifs)\n",
    "    k = len(Motifs[0])\n",
    "    countp = CountWithPseudocounts(Motifs)\n",
    "    profilep = {}\n",
    "    for symbol in \"ACGT\":\n",
    "        profilep[symbol] = [] # set up\n",
    "        for j in range(k):\n",
    "            profilep[symbol].append(0) # set up\n",
    "            profilep[symbol][j] = countp[symbol][j] / (t + 1 * 4)\n",
    "    return profilep\n",
    "\n",
    "def Pr(Text, Profile): # probability of text, given profile (given motifs)\n",
    "    p = 1\n",
    "    for i in range(len(Text)):\n",
    "        p *= Profile[Text[i]][i]\n",
    "    return p\n",
    "\n",
    "def ProfileMostProbableKmer(Text, k, Profile): # most probable kmer in string Text given Profile\n",
    "    probability = -1 # -1 to allow strings with probability = 0\n",
    "    MostProbableKmer = \"\"\n",
    "    for i in range(len(Text) - k + 1):\n",
    "        if Pr(Text[i:i + k], Profile) > probability: # each kmer in Text\n",
    "            probability = Pr(Text[i:i + k], Profile)\n",
    "            MostProbableKmer = Text[i:i + k]\n",
    "    return MostProbableKmer\n",
    "\n",
    "for i in Motifs(Profile, Dna):\n",
    "    print(i)"
   ]
  },
  {
   "cell_type": "code",
   "execution_count": 18,
   "metadata": {},
   "outputs": [
    {
     "name": "stdout",
     "output_type": "stream",
     "text": [
      "{'A': [0.25, 0.125, 0.25], 'C': [0.25, 0.375, 0.375], 'G': [0.375, 0.125, 0.125], 'T': [0.125, 0.375, 0.25]}\n"
     ]
    }
   ],
   "source": [
    "Motifs = ['GTC',\n",
    "'CCC',\n",
    "'ATA',\n",
    "'GCT']\n",
    "def CountWithPseudocounts(Motifs):\n",
    "    t = len(Motifs)\n",
    "    k = len(Motifs[0])\n",
    "    countp = {}\n",
    "    for symbol in \"ACGT\":\n",
    "        countp[symbol] = []\n",
    "        for j in range(k):\n",
    "            countp[symbol].append(1)\n",
    "    for i in range(t):\n",
    "        for j in range(k):\n",
    "            symbol = Motifs[i][j]\n",
    "            countp[symbol][j] += 1\n",
    "    return countp\n",
    "\n",
    "def ProfileWithPseudocounts(Motifs):\n",
    "    t = len(Motifs)\n",
    "    k = len(Motifs[0])\n",
    "    countp = CountWithPseudocounts(Motifs)\n",
    "    profilep = {}\n",
    "    for symbol in \"ACGT\":\n",
    "        profilep[symbol] = [] # set up\n",
    "        for j in range(k):\n",
    "            profilep[symbol].append(0) # set up\n",
    "            profilep[symbol][j] = countp[symbol][j] / (t + 1 * 4)\n",
    "    return profilep\n",
    "\n",
    "print(ProfileWithPseudocounts(Motifs))"
   ]
  },
  {
   "cell_type": "code",
   "execution_count": 3,
   "metadata": {},
   "outputs": [
    {
     "name": "stdout",
     "output_type": "stream",
     "text": [
      "what's your name? geoff\n",
      "you're the stupidest\n"
     ]
    }
   ],
   "source": [
    "i = input(\"what's your name? \")\n",
    "\n",
    "if i == \"gerald\":\n",
    "    print(\"you're stupid\")\n",
    "elif i == \"geoff\":\n",
    "    print(\"you're the stupidest\")\n",
    "else:\n",
    "    print(\"hi\")"
   ]
  }
 ],
 "metadata": {
  "kernelspec": {
   "display_name": "Python 3",
   "language": "python",
   "name": "python3"
  }
 },
 "nbformat": 4,
 "nbformat_minor": 4
}
